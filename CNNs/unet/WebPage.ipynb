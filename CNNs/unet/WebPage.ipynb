{
 "cells": [
  {
   "cell_type": "code",
   "execution_count": 3,
   "metadata": {},
   "outputs": [],
   "source": [
    "import os\n",
    "import requests\n",
    "from flask import Flask, render_template, request, redirect, url_for, send_from_directory\n",
    "import SimpleITK as sitk\n",
    "import numpy as np\n",
    "import torch.cuda\n",
    "import torch\n",
    "from unet_3d import Unet\n",
    "from utils import maxProb, FilterUnconnectedRegions, writeMhd, multilabel"
   ]
  },
  {
   "cell_type": "code",
   "execution_count": 4,
   "metadata": {},
   "outputs": [],
   "source": [
    "app = Flask(__name__)\n",
    "\n",
    "dataPath = '../../Data/LumbarSpine3D/InputImages/'\n",
    "outputPath = '../../Data/LumbarSpine3D/InputImages/'\n",
    "modelLocation = '../../Data/LumbarSpine3D/PretrainedModel/'\n",
    "# Image format extension:\n",
    "extensionImages = 'mhd'\n",
    "\n",
    "\n",
    "if not os.path.exists(dataPath):\n",
    "    os.makedirs(dataPath)\n",
    "\n",
    "modelName = os.listdir(modelLocation)[0]\n",
    "modelFilename = modelLocation + modelName\n"
   ]
  },
  {
   "cell_type": "code",
   "execution_count": 5,
   "metadata": {},
   "outputs": [
    {
     "name": "stdout",
     "output_type": "stream",
     "text": [
      "cpu\n"
     ]
    }
   ],
   "source": [
    "device = torch.device('cuda' if torch.cuda.is_available() else 'cpu')\n",
    "print(device)\n",
    "if device.type == 'cuda':\n",
    "    t = torch.cuda.get_device_properties(0).total_memory\n",
    "    r = torch.cuda.memory_reserved(0)\n",
    "    a = torch.cuda.memory_allocated(0)\n",
    "    f = r-a  # free inside reserved\n",
    "    print('Total memory: {0}. Reserved memory: {1}. Allocated memory:{2}. Free memory:{3}.'.format(t,r,a,f))"
   ]
  },
  {
   "cell_type": "code",
   "execution_count": 6,
   "metadata": {},
   "outputs": [],
   "source": [
    "\n",
    "\n",
    "######################### MODEL INIT ######################\n",
    "multilabelNum = 8\n",
    "torch.cuda.empty_cache()\n",
    "model = Unet(1, multilabelNum)\n",
    "model.load_state_dict(torch.load(modelFilename, map_location=device))\n",
    "model = model.to(device)\n"
   ]
  },
  {
   "cell_type": "code",
   "execution_count": 14,
   "metadata": {},
   "outputs": [],
   "source": [
    "radiusErodeDilate = sitk.VectorUInt32([1, 1, 1])  # Adjust the values as needed.\n"
   ]
  },
  {
   "cell_type": "code",
   "execution_count": 16,
   "metadata": {},
   "outputs": [
    {
     "ename": "RuntimeError",
     "evalue": "Exception thrown in SimpleITK ImageFileReader_Execute: D:\\a\\1\\sitk-build\\ITK\\Modules\\IO\\Meta\\src\\itkMetaImageIO.cxx:484:\nITK ERROR: MetaImageIO(0000025373D5A3A0): File cannot be read: ../../CNNs/unet/uploads_folder/C00001.mhd for reading.\nReason: No such file or directory",
     "output_type": "error",
     "traceback": [
      "\u001b[1;31m---------------------------------------------------------------------------\u001b[0m",
      "\u001b[1;31mRuntimeError\u001b[0m                              Traceback (most recent call last)",
      "\u001b[1;32m~\\AppData\\Local\\Temp\\ipykernel_11892\\2850475045.py\u001b[0m in \u001b[0;36m?\u001b[1;34m()\u001b[0m\n\u001b[0;32m      9\u001b[0m     \u001b[0mname\u001b[0m\u001b[1;33m,\u001b[0m \u001b[0mextension\u001b[0m \u001b[1;33m=\u001b[0m \u001b[0mos\u001b[0m\u001b[1;33m.\u001b[0m\u001b[0mpath\u001b[0m\u001b[1;33m.\u001b[0m\u001b[0msplitext\u001b[0m\u001b[1;33m(\u001b[0m\u001b[0mfilename\u001b[0m\u001b[1;33m)\u001b[0m\u001b[1;33m\u001b[0m\u001b[1;33m\u001b[0m\u001b[0m\n\u001b[0;32m     10\u001b[0m     \u001b[1;32mif\u001b[0m \u001b[0mextension\u001b[0m\u001b[1;33m.\u001b[0m\u001b[0mendswith\u001b[0m\u001b[1;33m(\u001b[0m\u001b[1;34m'raw'\u001b[0m\u001b[1;33m)\u001b[0m\u001b[1;33m:\u001b[0m\u001b[1;33m\u001b[0m\u001b[1;33m\u001b[0m\u001b[0m\n\u001b[0;32m     11\u001b[0m         \u001b[1;32mcontinue\u001b[0m\u001b[1;33m\u001b[0m\u001b[1;33m\u001b[0m\u001b[0m\n\u001b[0;32m     12\u001b[0m     \u001b[0mfilenameImage\u001b[0m \u001b[1;33m=\u001b[0m \u001b[0mdataPath\u001b[0m \u001b[1;33m+\u001b[0m \u001b[0mfilename\u001b[0m\u001b[1;33m\u001b[0m\u001b[1;33m\u001b[0m\u001b[0m\n\u001b[1;32m---> 13\u001b[1;33m     \u001b[0msitkImage\u001b[0m \u001b[1;33m=\u001b[0m \u001b[0msitk\u001b[0m\u001b[1;33m.\u001b[0m\u001b[0mReadImage\u001b[0m\u001b[1;33m(\u001b[0m\u001b[1;34m'../../CNNs/unet/uploads_folder/C00001.mhd'\u001b[0m\u001b[1;33m)\u001b[0m\u001b[1;33m\u001b[0m\u001b[1;33m\u001b[0m\u001b[0m\n\u001b[0m\u001b[0;32m     14\u001b[0m     \u001b[0mimage\u001b[0m \u001b[1;33m=\u001b[0m \u001b[0msitk\u001b[0m\u001b[1;33m.\u001b[0m\u001b[0mGetArrayFromImage\u001b[0m\u001b[1;33m(\u001b[0m\u001b[0msitkImage\u001b[0m\u001b[1;33m)\u001b[0m\u001b[1;33m.\u001b[0m\u001b[0mastype\u001b[0m\u001b[1;33m(\u001b[0m\u001b[0mnp\u001b[0m\u001b[1;33m.\u001b[0m\u001b[0mfloat32\u001b[0m\u001b[1;33m)\u001b[0m\u001b[1;33m\u001b[0m\u001b[1;33m\u001b[0m\u001b[0m\n\u001b[0;32m     15\u001b[0m     \u001b[0mimage\u001b[0m \u001b[1;33m=\u001b[0m \u001b[0mnp\u001b[0m\u001b[1;33m.\u001b[0m\u001b[0mexpand_dims\u001b[0m\u001b[1;33m(\u001b[0m\u001b[0mimage\u001b[0m\u001b[1;33m,\u001b[0m \u001b[0maxis\u001b[0m\u001b[1;33m=\u001b[0m\u001b[1;36m0\u001b[0m\u001b[1;33m)\u001b[0m\u001b[1;33m\u001b[0m\u001b[1;33m\u001b[0m\u001b[0m\n\u001b[0;32m     16\u001b[0m \u001b[1;33m\u001b[0m\u001b[0m\n",
      "\u001b[1;32mc:\\Users\\DELL\\MuscleSegmentation\\venv\\Lib\\site-packages\\SimpleITK\\extra.py\u001b[0m in \u001b[0;36m?\u001b[1;34m(fileName, outputPixelType, imageIO)\u001b[0m\n\u001b[0;32m    351\u001b[0m         \u001b[0mreader\u001b[0m\u001b[1;33m.\u001b[0m\u001b[0mSetFileNames\u001b[0m\u001b[1;33m(\u001b[0m\u001b[1;33m[\u001b[0m\u001b[0mstr\u001b[0m\u001b[1;33m(\u001b[0m\u001b[0mname\u001b[0m\u001b[1;33m)\u001b[0m \u001b[1;32mfor\u001b[0m \u001b[0mname\u001b[0m \u001b[1;32min\u001b[0m \u001b[0mfileName\u001b[0m\u001b[1;33m]\u001b[0m\u001b[1;33m)\u001b[0m\u001b[1;33m\u001b[0m\u001b[1;33m\u001b[0m\u001b[0m\n\u001b[0;32m    352\u001b[0m \u001b[1;33m\u001b[0m\u001b[0m\n\u001b[0;32m    353\u001b[0m     \u001b[0mreader\u001b[0m\u001b[1;33m.\u001b[0m\u001b[0mSetImageIO\u001b[0m\u001b[1;33m(\u001b[0m\u001b[0mimageIO\u001b[0m\u001b[1;33m)\u001b[0m\u001b[1;33m\u001b[0m\u001b[1;33m\u001b[0m\u001b[0m\n\u001b[0;32m    354\u001b[0m     \u001b[0mreader\u001b[0m\u001b[1;33m.\u001b[0m\u001b[0mSetOutputPixelType\u001b[0m\u001b[1;33m(\u001b[0m\u001b[0moutputPixelType\u001b[0m\u001b[1;33m)\u001b[0m\u001b[1;33m\u001b[0m\u001b[1;33m\u001b[0m\u001b[0m\n\u001b[1;32m--> 355\u001b[1;33m     \u001b[1;32mreturn\u001b[0m \u001b[0mreader\u001b[0m\u001b[1;33m.\u001b[0m\u001b[0mExecute\u001b[0m\u001b[1;33m(\u001b[0m\u001b[1;33m)\u001b[0m\u001b[1;33m\u001b[0m\u001b[1;33m\u001b[0m\u001b[0m\n\u001b[0m",
      "\u001b[1;32mc:\\Users\\DELL\\MuscleSegmentation\\venv\\Lib\\site-packages\\SimpleITK\\SimpleITK.py\u001b[0m in \u001b[0;36m?\u001b[1;34m(self)\u001b[0m\n\u001b[0;32m   8434\u001b[0m         \u001b[0mtype\u001b[0m \u001b[0mto\u001b[0m \u001b[0mbe\u001b[0m \u001b[0msame\u001b[0m \u001b[1;32mas\u001b[0m \u001b[0mthe\u001b[0m \u001b[0mfile\u001b[0m\u001b[1;33m.\u001b[0m \u001b[0mIf\u001b[0m \u001b[0mthe\u001b[0m \u001b[0mpixel\u001b[0m \u001b[0mtype\u001b[0m \u001b[1;32mis\u001b[0m \u001b[0mspecified\u001b[0m \u001b[0mthen\u001b[0m \u001b[0mthe\u001b[0m \u001b[0mitk\u001b[0m\u001b[1;33m:\u001b[0m\u001b[1;33m:\u001b[0m\u001b[0mConvertPixelBuffer\u001b[0m \u001b[0mwill\u001b[0m \u001b[0mbe\u001b[0m \u001b[0mused\u001b[0m \u001b[0mto\u001b[0m \u001b[0mconvert\u001b[0m \u001b[0mthe\u001b[0m \u001b[0mpixels\u001b[0m\u001b[1;33m.\u001b[0m\u001b[1;33m\u001b[0m\u001b[1;33m\u001b[0m\u001b[0m\n\u001b[0;32m   8435\u001b[0m \u001b[1;33m\u001b[0m\u001b[0m\n\u001b[0;32m   8436\u001b[0m \u001b[1;33m\u001b[0m\u001b[0m\n\u001b[0;32m   8437\u001b[0m         \"\"\"\n\u001b[1;32m-> 8438\u001b[1;33m         \u001b[1;32mreturn\u001b[0m \u001b[0m_SimpleITK\u001b[0m\u001b[1;33m.\u001b[0m\u001b[0mImageFileReader_Execute\u001b[0m\u001b[1;33m(\u001b[0m\u001b[0mself\u001b[0m\u001b[1;33m)\u001b[0m\u001b[1;33m\u001b[0m\u001b[1;33m\u001b[0m\u001b[0m\n\u001b[0m",
      "\u001b[1;31mRuntimeError\u001b[0m: Exception thrown in SimpleITK ImageFileReader_Execute: D:\\a\\1\\sitk-build\\ITK\\Modules\\IO\\Meta\\src\\itkMetaImageIO.cxx:484:\nITK ERROR: MetaImageIO(0000025373D5A3A0): File cannot be read: ../../CNNs/unet/uploads_folder/C00001.mhd for reading.\nReason: No such file or directory"
     ]
    }
   ],
   "source": [
    "\n",
    "###################### READ DATA AND PRE PROCESS IT FOR TRAINING DATA SETS #####################################################\n",
    "# Look for the folders or shortcuts:\n",
    "files = os.listdir(dataPath)\n",
    "files = sorted(files)\n",
    "imageNames = []\n",
    "imageFilenames = []\n",
    "i = 0\n",
    "for filename in files:\n",
    "    name, extension = os.path.splitext(filename)\n",
    "    if extension.endswith('raw'):\n",
    "        continue\n",
    "    filenameImage = dataPath + filename\n",
    "    sitkImage = sitk.ReadImage('../../CNNs/unet/uploads_folder/C00001.mhd')\n",
    "    image = sitk.GetArrayFromImage(sitkImage).astype(np.float32)\n",
    "    image = np.expand_dims(image, axis=0)\n",
    "    \n",
    "    with torch.no_grad():\n",
    "        input = torch.from_numpy(image).to(device)\n",
    "        output = model(input.unsqueeze(0))\n",
    "        output = torch.sigmoid(output.cpu().to(torch.float32))\n",
    "        outputs = maxProb(output, multilabelNum)\n",
    "        output = ((output > 0.5) * 1)\n",
    "        output = multilabel(output.detach().numpy())\n",
    "    #output = FilterUnconnectedRegions(output.squeeze(0), multilabelNum, sitkImage)# Herramienta de filtrado de imagenes\n",
    "    #sitk.WriteImage(output, outputPath + name + '_segmentation' + extension)\n",
    "    writeMhd(output.squeeze(0).astype(np.uint8), outputPath + name + '_segmentation' + extension, sitkImage) # sin herramienta de filtrado"
   ]
  },
  {
   "cell_type": "code",
   "execution_count": 40,
   "metadata": {},
   "outputs": [
    {
     "name": "stdout",
     "output_type": "stream",
     "text": [
      "Imagen guardada en 'C:\\Users\\DELL\\MuscleSegmentation\\Data\\LumbarSpine3D\\InputImages\\imagen.png'\n"
     ]
    }
   ],
   "source": [
    "import numpy as np\n",
    "from PIL import Image\n",
    "\n",
    "# Definir las dimensiones reales de tus datos\n",
    "real_width = 640  # Ajusta según tus datos\n",
    "real_height = 480  # Ajusta según tus datos\n",
    "\n",
    "# Leer los datos raw en un arreglo NumPy\n",
    "raw_file_path = r'C:\\Users\\DELL\\MuscleSegmentation\\Data\\LumbarSpine3D\\InputImages\\C00001.raw'\n",
    "with open(raw_file_path, 'rb') as raw_file:\n",
    "    data = np.fromfile(raw_file, dtype=np.uint8)  # Ajusta el tipo de datos según sea necesario\n",
    "\n",
    "# Verificar si es necesario recortar los datos\n",
    "if real_width * real_height > len(data):\n",
    "    raise ValueError(\"Las dimensiones reales son más grandes que la cantidad de datos disponibles.\")\n",
    "\n",
    "# Recortar los datos si es necesario\n",
    "data = data[:real_width * real_height]\n",
    "\n",
    "# Crear una imagen PIL y guardarla en otro formato\n",
    "image_data = data.reshape((real_height, real_width))\n",
    "image = Image.fromarray(image_data)\n",
    "output_image_path = r'C:\\Users\\DELL\\MuscleSegmentation\\Data\\LumbarSpine3D\\InputImages\\imagen.png'  # Especifica la ruta y nombre de archivo de salida\n",
    "image.save(output_image_path)\n",
    "\n",
    "print(f\"Imagen guardada en '{output_image_path}'\")\n"
   ]
  }
 ],
 "metadata": {
  "kernelspec": {
   "display_name": "venv",
   "language": "python",
   "name": "python3"
  },
  "language_info": {
   "codemirror_mode": {
    "name": "ipython",
    "version": 3
   },
   "file_extension": ".py",
   "mimetype": "text/x-python",
   "name": "python",
   "nbconvert_exporter": "python",
   "pygments_lexer": "ipython3",
   "version": "3.11.4"
  },
  "orig_nbformat": 4
 },
 "nbformat": 4,
 "nbformat_minor": 2
}
